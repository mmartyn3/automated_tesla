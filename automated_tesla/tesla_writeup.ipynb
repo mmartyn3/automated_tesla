{
 "cells": [
  {
   "cell_type": "markdown",
   "metadata": {},
   "source": [
    "Instructions for starting up an AWS server with the automated Tesla Model 3 reminder email service"
   ]
  },
  {
   "cell_type": "raw",
   "metadata": {},
   "source": [
    "# signing up for AWS\n",
    "\n",
    "free tier (tiny) EC2 sign-up required\n",
    "Amazon SES sign-up required to send emails within EC2"
   ]
  },
  {
   "cell_type": "raw",
   "metadata": {},
   "source": [
    "# transfer script to server. Need to grab the ip from AWS dashboard screen\n",
    "\n",
    "scp -i \"mmartyn_ssh_keys_7Jul2019.pem\" spider.py ubuntu@ec2-18-223-180-45.us-east-2.compute.amazonaws.com:/home/ubuntu/automated_tesla/spider.py"
   ]
  },
  {
   "cell_type": "raw",
   "metadata": {},
   "source": [
    "# login to the EC2 instance\n",
    "\n",
    "ssh -i \"mmartyn_ssh_keys_7Jul2019.pem\" ubuntu@ec2-18-223-180-45.us-east-2.compute.amazonaws.com"
   ]
  },
  {
   "cell_type": "raw",
   "metadata": {},
   "source": [
    "# finish SES process (https://docs.aws.amazon.com/ses/latest/DeveloperGuide/send-an-email-using-sdk.html)"
   ]
  },
  {
   "cell_type": "raw",
   "metadata": {},
   "source": [
    "# install google chrome\n",
    "\n",
    "sudo apt-get update\n",
    "sudo apt-get install google-chrome-stable"
   ]
  },
  {
   "cell_type": "raw",
   "metadata": {},
   "source": [
    "# install pip\n",
    "\n",
    "curl -O https://bootstrap.pypa.io/get-pip.py"
   ]
  },
  {
   "cell_type": "raw",
   "metadata": {},
   "source": [
    "# install dependancies for Python script (help found here... https://medium.com/@praneeth.jm/running-python-scripts-on-an-aws-ec2-instance-8c01f9ee7b2f)\n",
    "\n",
    "pip install selenium"
   ]
  },
  {
   "cell_type": "raw",
   "metadata": {},
   "source": [
    "# create cron job\n",
    "\n",
    "crontab -e\n",
    "\n",
    "1 * * * * usr/local/python /home/ubuntu/automated_tesla/spider.py"
   ]
  },
  {
   "cell_type": "raw",
   "metadata": {},
   "source": [
    "# start the cron job running\n",
    "\n",
    "sudo service cron start"
   ]
  },
  {
   "cell_type": "code",
   "execution_count": null,
   "metadata": {},
   "outputs": [],
   "source": []
  }
 ],
 "metadata": {
  "kernelspec": {
   "display_name": "Python 3",
   "language": "python",
   "name": "python3"
  },
  "language_info": {
   "codemirror_mode": {
    "name": "ipython",
    "version": 3
   },
   "file_extension": ".py",
   "mimetype": "text/x-python",
   "name": "python",
   "nbconvert_exporter": "python",
   "pygments_lexer": "ipython3",
   "version": "3.7.2"
  }
 },
 "nbformat": 4,
 "nbformat_minor": 2
}
